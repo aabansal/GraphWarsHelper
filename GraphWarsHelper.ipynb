{
  "nbformat": 4,
  "nbformat_minor": 0,
  "metadata": {
    "colab": {
      "name": "GraphWarsHelper.ipynb",
      "provenance": [],
      "collapsed_sections": [],
      "authorship_tag": "ABX9TyMYBCgOciAk9pBS2Iy55lsy",
      "include_colab_link": true
    },
    "kernelspec": {
      "name": "python3",
      "display_name": "Python 3"
    },
    "language_info": {
      "name": "python"
    }
  },
  "cells": [
    {
      "cell_type": "markdown",
      "metadata": {
        "id": "view-in-github",
        "colab_type": "text"
      },
      "source": [
        "<a href=\"https://colab.research.google.com/github/aabansal/GraphWarsHelper/blob/main/GraphWarsHelper.ipynb\" target=\"_parent\"><img src=\"https://colab.research.google.com/assets/colab-badge.svg\" alt=\"Open In Colab\"/></a>"
      ]
    },
    {
      "cell_type": "markdown",
      "source": [
        "# Welcome to GraphWarsHelper!\n",
        "This is a program to make it easier for people to create functions in graphwars.\n",
        "Some common functions are listed here, but you can also define your own functions if you'd like. To use, simply modify the last cell based on the functions you would like to add and your player offset, and then run all the cells. Enjoy!"
      ],
      "metadata": {
        "id": "tELlPrtVbRF6"
      }
    },
    {
      "cell_type": "code",
      "execution_count": null,
      "metadata": {
        "id": "TNPvhklRJQNG"
      },
      "outputs": [],
      "source": [
        "# goes up or down by h at position x_0. k is growth rate, higher=steeper\n",
        "def logistic(h: float, x_0: float, k=30):\n",
        "  return f\"+{h}/(1+exp(-{k}(x-{x_0})))\"\n",
        "\n",
        "# spikes up or down by h at position x_0 then returns to current position\n",
        "def lorentziana(h: float, x_0: float,  steepness=1):\n",
        "  return f\"+{h/steepness}/({1/steepness}+(x-{x_0})^2)\"\n",
        "\n",
        "# simple sin wave\n",
        "def sin(amplitude: float, period: float, x_0=0.0):\n",
        "  return f\"+{amplitude}sin({period}x+{x_0})\"\n",
        "\n",
        "# simple cos wave\n",
        "def cos(amplitude: float, period: float, x_0=0.0):\n",
        "  return f\"+{amplitude}cos({period}x+{x_0})\"\n",
        "\n",
        "# sin function times a normal distribution, c specifies width\n",
        "def sinxgauss(amplitude: float, x_0: float, c=1.0, abs=False):\n",
        "  eq = f\"+{amplitude}exp(-(x-{x_0})^2/({2*(c**2)}))sin(20x)\"\n",
        "  if (abs): \n",
        "    eq = \"+abs(\" + eq + \")\"\n",
        "  return eq\n",
        "\n",
        "# heaviside function useful for turning functions on or off. \n",
        "# specify at which x you want the function on or off, and pass in your function\n",
        "# into the argument f\n",
        "def heaviside(on: float, off: float, f=\"1\"):\n",
        "  f_on = f.replace(\"x\", f\"(x-{on})\")\n",
        "  f_off = f.replace(\"x\", f\"(x-{off})\")\n",
        "  return f\"+({f_on}/(1+exp(-30(x-{on})))-{f_off}/(1+exp(-30(x-{off}))))\"\n",
        "\n",
        "# creates a candy \n",
        "def candy():\n",
        "  return\n",
        "\n",
        "# size of heart is size from top to bottom, and width from left to right\n",
        "def heart(size: float, x_0: float):\n",
        "  size = size / 2\n",
        "  return f\"+0.4((abs(x-{x_0})-{size})-abs(abs(x-{x_0})-{size}))+sqrt({size**2}-\\\n",
        "({size}+0.4((abs(x-{x_0})-{size})-abs(abs(x-{x_0})-{size})))^2)cos(40x)\""
      ]
    },
    {
      "cell_type": "code",
      "source": [
        "def combine(functions: list):\n",
        "  finalFunction = \"\"\n",
        "  for function in functions:\n",
        "    finalFunction += function\n",
        "  finalFunction = finalFunction.replace(\"++\", \"+\")\n",
        "  finalFunction = finalFunction.replace(\"+-\", \"-\")\n",
        "  finalFunction = finalFunction.replace(\"--\", \"+\")\n",
        "  finalFunction = finalFunction.replace(\"-+\", \"-\")\n",
        "  finalFunction = finalFunction.replace(\"(x-0)\", \"x\")\n",
        "  return finalFunction"
      ],
      "metadata": {
        "id": "cnqDo8KPjbf7"
      },
      "execution_count": null,
      "outputs": []
    },
    {
      "cell_type": "code",
      "source": [
        "# OPTIONAL: \n",
        "# modify these values based on your players\n",
        "PLAYER_ONE_Y_OFFSET = str(9.0)\n",
        "PLAYER_TWO_Y_OFFSET = str(0.0)\n",
        "\n",
        "# fill in the functions\n",
        "player_one_functions = [PLAYER_ONE_Y_OFFSET,\n",
        "                        # logistic(-11, -10),\n",
        "                        # sinxgauss(3, 2)\n",
        "                        # List more functions here!\n",
        "                        ]\n",
        "player_two_functions = [PLAYER_TWO_Y_OFFSET,\n",
        "                        # sample function 1,\n",
        "                        # sample function 2,\n",
        "                        ]\n",
        "\n",
        "player_one_final = combine(player_one_functions)\n",
        "player_two_final = combine(player_two_functions)\n",
        "\n",
        "print(player_one_final)\n",
        "print(player_two_final)"
      ],
      "metadata": {
        "id": "-L4400vyVo9y"
      },
      "execution_count": null,
      "outputs": []
    }
  ]
}